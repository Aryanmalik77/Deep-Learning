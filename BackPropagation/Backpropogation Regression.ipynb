{
 "cells": [
  {
   "cell_type": "code",
   "execution_count": 297,
   "id": "591b9ac0-e5b3-4da1-b8d0-9c867d241869",
   "metadata": {},
   "outputs": [],
   "source": [
    "import numpy as np\n",
    "import pandas as pd"
   ]
  },
  {
   "cell_type": "code",
   "execution_count": 299,
   "id": "6b12ff04-f081-44d4-816d-0946691bf48e",
   "metadata": {},
   "outputs": [],
   "source": [
    "df = pd.DataFrame([[80,70,90.],[8,9,7,],[3,4,5,]],columns = [\"iq\",\"cgpa\",\"lpa\"])"
   ]
  },
  {
   "cell_type": "code",
   "execution_count": 301,
   "id": "a5f5a7da-d39b-4394-bb77-2a11ac147fae",
   "metadata": {},
   "outputs": [
    {
     "data": {
      "text/html": [
       "<div>\n",
       "<style scoped>\n",
       "    .dataframe tbody tr th:only-of-type {\n",
       "        vertical-align: middle;\n",
       "    }\n",
       "\n",
       "    .dataframe tbody tr th {\n",
       "        vertical-align: top;\n",
       "    }\n",
       "\n",
       "    .dataframe thead th {\n",
       "        text-align: right;\n",
       "    }\n",
       "</style>\n",
       "<table border=\"1\" class=\"dataframe\">\n",
       "  <thead>\n",
       "    <tr style=\"text-align: right;\">\n",
       "      <th></th>\n",
       "      <th>iq</th>\n",
       "      <th>cgpa</th>\n",
       "      <th>lpa</th>\n",
       "    </tr>\n",
       "  </thead>\n",
       "  <tbody>\n",
       "    <tr>\n",
       "      <th>0</th>\n",
       "      <td>80</td>\n",
       "      <td>70</td>\n",
       "      <td>90.0</td>\n",
       "    </tr>\n",
       "    <tr>\n",
       "      <th>1</th>\n",
       "      <td>8</td>\n",
       "      <td>9</td>\n",
       "      <td>7.0</td>\n",
       "    </tr>\n",
       "    <tr>\n",
       "      <th>2</th>\n",
       "      <td>3</td>\n",
       "      <td>4</td>\n",
       "      <td>5.0</td>\n",
       "    </tr>\n",
       "  </tbody>\n",
       "</table>\n",
       "</div>"
      ],
      "text/plain": [
       "   iq  cgpa   lpa\n",
       "0  80    70  90.0\n",
       "1   8     9   7.0\n",
       "2   3     4   5.0"
      ]
     },
     "execution_count": 301,
     "metadata": {},
     "output_type": "execute_result"
    }
   ],
   "source": [
    "df"
   ]
  },
  {
   "cell_type": "code",
   "execution_count": 303,
   "id": "1ba09876-00b1-4709-bdc0-5375dede4e24",
   "metadata": {},
   "outputs": [],
   "source": [
    "def intilize_parameters(layers_dim):# here we intilize the the graph or u can say how may traaining points are ther in the model\n",
    "    np.random.seed(3)\n",
    "    parameters ={}\n",
    "    L = len(layers_dim)\n",
    "    for l in range (1,L):\n",
    "         parameters[\"W\" + str(l)] = np.ones((layers_dim[l-1],layers_dim[l]))*0.1\n",
    "         parameters[\"B\" + str(l)] = np.zeros((layers_dim[l],1))\n",
    "    return parameters\n",
    "       \n",
    "\n",
    "        \n",
    "        "
   ]
  },
  {
   "cell_type": "code",
   "execution_count": 305,
   "id": "1d8cee98-203e-4620-bc94-e49502a1af00",
   "metadata": {},
   "outputs": [
    {
     "data": {
      "text/plain": [
       "{'W1': array([[0.1, 0.1],\n",
       "        [0.1, 0.1]]),\n",
       " 'B1': array([[0.],\n",
       "        [0.]]),\n",
       " 'W2': array([[0.1],\n",
       "        [0.1]]),\n",
       " 'B2': array([[0.]])}"
      ]
     },
     "execution_count": 305,
     "metadata": {},
     "output_type": "execute_result"
    }
   ],
   "source": [
    "intilize_parameters([2,2,1])"
   ]
  },
  {
   "cell_type": "code",
   "execution_count": 307,
   "id": "aaec72bb-eb52-407e-9e52-64c413ff3687",
   "metadata": {},
   "outputs": [],
   "source": [
    "def linear_forward(A_prev,W,B):# here we use this to kisaey bhi neron ka output calculaate krna] depends on mainly 5 things first the input,baise aand weights\n",
    "    \n",
    "    z = np.dot(W.T,A_prev)+B\n",
    "    return z\n",
    "    "
   ]
  },
  {
   "cell_type": "raw",
   "id": "66525321-aa05-4e8c-a77b-b92d79edd396",
   "metadata": {},
   "source": []
  },
  {
   "cell_type": "code",
   "execution_count": 309,
   "id": "3a5db36e-29e3-435a-8b8a-3644d00ebbd7",
   "metadata": {},
   "outputs": [],
   "source": [
    "# forward propogation krengye yeh wala maain"
   ]
  },
  {
   "cell_type": "code",
   "execution_count": 311,
   "id": "3635f7a8-aa1b-49a1-abd8-ade13f56fcfa",
   "metadata": {},
   "outputs": [],
   "source": [
    "def L_layer_forward(X,parameters):\n",
    "    A = X\n",
    "    L = len(parameters)// 2 # determines how many layers in neurons)\n",
    "    for l in range(1, L+1):\n",
    "        A_prev = A\n",
    "        W1 = parameters[\"W\"+ str(l)]\n",
    "        B1 = parameters[\"B\"+ str(l)]\n",
    "         #print(\"A\"+str(l-1)+\": \", A_prev)\n",
    "    #print(\"W\"+str(l)+\": \", Wl)\n",
    "    #print(\"b\"+str(l)+\": \", bl)\n",
    "    #print(\"--\"*20)\n",
    "    A = linear_forward(A_prev,W1,B1)\n",
    "    return A,A_prev\n",
    "        "
   ]
  },
  {
   "cell_type": "code",
   "execution_count": 313,
   "id": "55c8d670-10de-4e60-a22a-da287df48743",
   "metadata": {},
   "outputs": [],
   "source": [
    "X = df[['cgpa', 'iq']].values[0].reshape(2,1)\n",
    "Y = df[[\"lpa\"]].values[0][0]\n",
    "# intilize the parameters\n",
    "parameters = intilize_parameters([2,2,1])\n",
    "\n",
    "y_hat,A1 = L_layer_forward(X, parameters)"
   ]
  },
  {
   "cell_type": "code",
   "execution_count": 315,
   "id": "e9517cfd-b379-448a-ba69-b34decce6565",
   "metadata": {},
   "outputs": [],
   "source": [
    "y_hat =  y_hat[0][0]"
   ]
  },
  {
   "cell_type": "code",
   "execution_count": 317,
   "id": "c03fa014-4fe6-49c4-b781-588a2703ebf4",
   "metadata": {},
   "outputs": [
    {
     "data": {
      "text/plain": [
       "array([[70],\n",
       "       [80]], dtype=int64)"
      ]
     },
     "execution_count": 317,
     "metadata": {},
     "output_type": "execute_result"
    }
   ],
   "source": [
    "A1"
   ]
  },
  {
   "cell_type": "code",
   "execution_count": 319,
   "id": "5a96412b-01dd-485e-a6ff-317e8587e81d",
   "metadata": {},
   "outputs": [],
   "source": [
    " def update_parameters(parameters,A1, y_hat, X,Y):\n",
    "     parameters = parameters\n",
    "     A1 = A1\n",
    "     y_hat = y_hat\n",
    "     X = X\n",
    "     Y =Y\n",
    "     return parameters\n",
    "   "
   ]
  },
  {
   "cell_type": "code",
   "execution_count": 321,
   "id": "c1c39591-ac02-4ba1-bf36-35c999adf181",
   "metadata": {},
   "outputs": [
    {
     "data": {
      "text/plain": [
       "{'W1': array([[0.1, 0.1],\n",
       "        [0.1, 0.1]]),\n",
       " 'B1': array([[0.],\n",
       "        [0.]]),\n",
       " 'W2': array([[0.1],\n",
       "        [0.1]]),\n",
       " 'B2': array([[0.]])}"
      ]
     },
     "execution_count": 321,
     "metadata": {},
     "output_type": "execute_result"
    }
   ],
   "source": [
    "update_parameters(parameters,A1, y_hat, X,Y)"
   ]
  },
  {
   "cell_type": "code",
   "execution_count": 328,
   "id": "a27ad76c-b45a-4415-b16f-27837dba8776",
   "metadata": {},
   "outputs": [],
   "source": [
    "def update_para(parameters,Y,y_hat,A1,X):\n",
    "    \n",
    "    \n",
    "    y_hat =  y_hat[0][0]\n",
    "\n",
    "    parameters['W1'][0][0] = parameters['W1'][0][0] + (0.001 * 2 * (Y - y_hat)*parameters['W2'][0][0]*X[0][0])\n",
    "    parameters['W1'][0][1] = parameters['W1'][0][1] + (0.001 * 2 * (Y - y_hat)*parameters['W2'][0][0]*X[1][0])\n",
    "    parameters['B1'][0][0] = parameters['B1'][0][0] + (0.001 * 2 * (Y - y_hat)*parameters['W2'][0][0])\n",
    "\n",
    "    parameters['W1'][1][0] = parameters['W1'][1][0] + (0.001 * 2 * (Y - y_hat)*parameters['W2'][1][0]*X[0][0])\n",
    "    parameters['W1'][1][1] = parameters['W1'][1][1] + (0.001 * 2 * (Y - y_hat)*parameters['W2'][1][0]*X[1][0])\n",
    "    parameters['B1'][1][0] = parameters['B1'][1][0] + (0.001 * 2 * (Y - y_hat)*parameters['W2'][1][0])\n",
    "\n",
    "    parameters['W2'][0][0] = parameters['W2'][0][0] + (0.001 * 2 * (Y - y_hat)*A1[0][0])\n",
    "    parameters['W2'][1][0] = parameters['W2'][1][0] + (0.001 * 2 * (Y - y_hat)*A1[1][0])\n",
    "    parameters['B2'][0][0] = parameters['W2'][1][0] + (0.001 * 2 * (Y - y_hat))"
   ]
  },
  {
   "cell_type": "code",
   "execution_count": 332,
   "id": "868855e8-09e2-478d-a80e-c0794bc523a5",
   "metadata": {},
   "outputs": [
    {
     "data": {
      "text/plain": [
       "{'W1': array([[1.15, 1.3 ],\n",
       "        [1.15, 1.3 ]]),\n",
       " 'B1': array([[0.015],\n",
       "        [0.015]]),\n",
       " 'W2': array([[10.6],\n",
       "        [12.1]]),\n",
       " 'B2': array([[12.25]])}"
      ]
     },
     "execution_count": 332,
     "metadata": {},
     "output_type": "execute_result"
    }
   ],
   "source": [
    "X = df[['cgpa', 'iq']].values[0].reshape(2,1)\n",
    "Y = df[[\"lpa\"]].values[0][0]\n",
    "# intilize the parameters\n",
    "parameters = intilize_parameters([2,2,1])\n",
    "\n",
    "y_hat,A1 = L_layer_forward(X, parameters)\n",
    "update_para(parameters,Y,y_hat,A1,X)\n",
    "parameters"
   ]
  },
  {
   "cell_type": "code",
   "execution_count": 334,
   "id": "8cd64109-e821-4360-90f2-1183c62e208b",
   "metadata": {},
   "outputs": [
    {
     "data": {
      "text/plain": [
       "{'W1': array([[0.10594, 0.10528],\n",
       "        [0.10594, 0.10528]]),\n",
       " 'B1': array([[0.00066],\n",
       "        [0.00066]]),\n",
       " 'W2': array([[0.1594],\n",
       "        [0.1528]]),\n",
       " 'B2': array([[0.1594]])}"
      ]
     },
     "execution_count": 334,
     "metadata": {},
     "output_type": "execute_result"
    }
   ],
   "source": [
    "X = df[['cgpa', 'iq']].values[1].reshape(2,1)\n",
    "Y = df[[\"lpa\"]].values[2][0]\n",
    "# intilize the parameters\n",
    "parameters = intilize_parameters([2,2,1])\n",
    "\n",
    "y_hat,A1 = L_layer_forward(X, parameters)\n",
    "update_para(parameters,Y,y_hat,A1,X)\n",
    "parameters"
   ]
  },
  {
   "cell_type": "code",
   "execution_count": 336,
   "id": "450ef54d-47ab-4c8b-b84c-7944be6bbda5",
   "metadata": {},
   "outputs": [
    {
     "data": {
      "text/plain": [
       "{'W1': array([[0.10344, 0.10258],\n",
       "        [0.10344, 0.10258]]),\n",
       " 'B1': array([[0.00086],\n",
       "        [0.00086]]),\n",
       " 'W2': array([[0.1344],\n",
       "        [0.1258]]),\n",
       " 'B2': array([[0.1344]])}"
      ]
     },
     "execution_count": 336,
     "metadata": {},
     "output_type": "execute_result"
    }
   ],
   "source": [
    "X = df[['cgpa', 'iq']].values[2].reshape(2,1)\n",
    "Y = df[[\"lpa\"]].values[2][0]\n",
    "# intilize the parameters\n",
    "parameters = intilize_parameters([2,2,1])\n",
    "\n",
    "y_hat,A1 = L_layer_forward(X, parameters)\n",
    "update_para(parameters,Y,y_hat,A1,X)\n",
    "parameters"
   ]
  },
  {
   "cell_type": "code",
   "execution_count": 340,
   "id": "d75d584c-e4ae-4e03-8a72-1c51c9e0b959",
   "metadata": {},
   "outputs": [],
   "source": [
    "# epochs intilization"
   ]
  },
  {
   "cell_type": "code",
   "execution_count": 362,
   "id": "8f7ccd0e-7812-434f-8e5a-99c72e7cd121",
   "metadata": {},
   "outputs": [
    {
     "name": "stdout",
     "output_type": "stream",
     "text": [
      "Epoch -  1 Loss -  1890.5266666666666\n",
      "Epoch -  2 Loss -  1890.5266666666666\n",
      "Epoch -  3 Loss -  1890.5266666666666\n",
      "Epoch -  4 Loss -  1890.5266666666666\n",
      "Epoch -  5 Loss -  1890.5266666666666\n"
     ]
    },
    {
     "data": {
      "text/plain": [
       "{'W1': array([[0.1, 0.1],\n",
       "        [0.1, 0.1]]),\n",
       " 'B1': array([[0.],\n",
       "        [0.]]),\n",
       " 'W2': array([[0.1],\n",
       "        [0.1]]),\n",
       " 'B2': array([[0.]])}"
      ]
     },
     "execution_count": 362,
     "metadata": {},
     "output_type": "execute_result"
    }
   ],
   "source": [
    "parameters = intilize_parameters([2,2,1])\n",
    "epochs = 5\n",
    "\n",
    "for i in range(epochs):\n",
    "    Loss = []\n",
    "    for j in range(df.shape[0]):\n",
    "        X = df[['iq', 'cgpa']].values[j].reshape(2,1) # Shape(no of features, no. of training example)\n",
    "        y = df[['lpa']].values[j][0]\n",
    "\n",
    "    # Parameter initialization\n",
    "        y_hat,A1 = L_layer_forward(X,parameters)\n",
    "        y_hat = y_hat[0][0]\n",
    "\n",
    "        update_parameters(parameters,y,y_hat,A1,X)\n",
    "\n",
    "        Loss.append((y-y_hat)**2)\n",
    "\n",
    "    print('Epoch - ',i+1,'Loss - ',np.array(Loss).mean())\n",
    "\n",
    "parameters"
   ]
  },
  {
   "cell_type": "code",
   "execution_count": null,
   "id": "f61c064b-9d34-48fe-830c-e461af670d29",
   "metadata": {},
   "outputs": [],
   "source": []
  }
 ],
 "metadata": {
  "kernelspec": {
   "display_name": "Python [conda env:base] *",
   "language": "python",
   "name": "conda-base-py"
  },
  "language_info": {
   "codemirror_mode": {
    "name": "ipython",
    "version": 3
   },
   "file_extension": ".py",
   "mimetype": "text/x-python",
   "name": "python",
   "nbconvert_exporter": "python",
   "pygments_lexer": "ipython3",
   "version": "3.12.7"
  }
 },
 "nbformat": 4,
 "nbformat_minor": 5
}
